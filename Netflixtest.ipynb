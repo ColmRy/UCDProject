{
 "cells": [
  {
   "cell_type": "code",
   "execution_count": 1,
   "metadata": {},
   "outputs": [],
   "source": [
    "import pandas as pd"
   ]
  },
  {
   "cell_type": "code",
   "execution_count": 2,
   "metadata": {},
   "outputs": [
    {
     "ename": "AttributeError",
     "evalue": "module 'pandas' has no attribute 'read'",
     "output_type": "error",
     "traceback": [
      "\u001b[1;31m---------------------------------------------------------------------------\u001b[0m",
      "\u001b[1;31mAttributeError\u001b[0m                            Traceback (most recent call last)",
      "\u001b[1;32m<ipython-input-2-b4fbe70b35d6>\u001b[0m in \u001b[0;36m<module>\u001b[1;34m\u001b[0m\n\u001b[1;32m----> 1\u001b[1;33m \u001b[0mdf\u001b[0m \u001b[1;33m=\u001b[0m \u001b[0mpd\u001b[0m\u001b[1;33m.\u001b[0m\u001b[0mread\u001b[0m\u001b[1;33m.\u001b[0m\u001b[0mcsv\u001b[0m\u001b[1;33m(\u001b[0m\u001b[1;34m'netflix.csv'\u001b[0m\u001b[1;33m)\u001b[0m\u001b[1;33m\u001b[0m\u001b[1;33m\u001b[0m\u001b[0m\n\u001b[0m",
      "\u001b[1;32m~\\anaconda3\\lib\\site-packages\\pandas\\__init__.py\u001b[0m in \u001b[0;36m__getattr__\u001b[1;34m(name)\u001b[0m\n\u001b[0;32m    256\u001b[0m             \u001b[1;32mreturn\u001b[0m \u001b[0m_SparseArray\u001b[0m\u001b[1;33m\u001b[0m\u001b[1;33m\u001b[0m\u001b[0m\n\u001b[0;32m    257\u001b[0m \u001b[1;33m\u001b[0m\u001b[0m\n\u001b[1;32m--> 258\u001b[1;33m         \u001b[1;32mraise\u001b[0m \u001b[0mAttributeError\u001b[0m\u001b[1;33m(\u001b[0m\u001b[1;34mf\"module 'pandas' has no attribute '{name}'\"\u001b[0m\u001b[1;33m)\u001b[0m\u001b[1;33m\u001b[0m\u001b[1;33m\u001b[0m\u001b[0m\n\u001b[0m\u001b[0;32m    259\u001b[0m \u001b[1;33m\u001b[0m\u001b[0m\n\u001b[0;32m    260\u001b[0m \u001b[1;33m\u001b[0m\u001b[0m\n",
      "\u001b[1;31mAttributeError\u001b[0m: module 'pandas' has no attribute 'read'"
     ]
    }
   ],
   "source": [
    "df = pd.read.csv('netflix.csv')"
   ]
  },
  {
   "cell_type": "code",
   "execution_count": 4,
   "metadata": {},
   "outputs": [],
   "source": [
    "df = pd.read_csv(r'C:\\Users\\Colm\\Documents\\UCDPAColmRyan\\netflix.csv')"
   ]
  },
  {
   "cell_type": "code",
   "execution_count": 5,
   "metadata": {},
   "outputs": [
    {
     "name": "stdout",
     "output_type": "stream",
     "text": [
      "     Profile Name        Start Time  Duration  \\\n",
      "0            Colm  09/05/2021 22:14  00:35:17   \n",
      "1            Colm  09/05/2021 21:34  00:39:43   \n",
      "2            Colm  09/05/2021 21:09  00:24:53   \n",
      "3            Colm  09/05/2021 21:08  00:00:31   \n",
      "4            Colm  09/05/2021 21:08  00:00:08   \n",
      "...           ...               ...       ...   \n",
      "2203         Kids  05/05/2020 01:58  01:24:36   \n",
      "2204         Kids  05/05/2020 01:45  00:03:21   \n",
      "2205         Kids  05/05/2020 01:44  00:00:53   \n",
      "2206         Kids  05/05/2020 01:43  00:01:08   \n",
      "2207         Kids  05/05/2020 01:42  00:00:26   \n",
      "\n",
      "                                       Attributes  \\\n",
      "0                 Autoplayed: user action: None;    \n",
      "1                                             NaN   \n",
      "2     Autoplayed: user action: User_Interaction;    \n",
      "3                 Autoplayed: user action: None;    \n",
      "4                 Autoplayed: user action: None;    \n",
      "...                                           ...   \n",
      "2203       Autoplayed: user action: Unspecified;    \n",
      "2204                      Has branched playback;    \n",
      "2205                      Has branched playback;    \n",
      "2206                      Has branched playback;    \n",
      "2207                      Has branched playback;    \n",
      "\n",
      "                                                  Title  \\\n",
      "0     The Vampire Diaries: Season 4: American Gothic...   \n",
      "1     The Vampire Diaries: Season 4: Because the Nig...   \n",
      "2     The Vampire Diaries: Season 4: Bring It On (Ep...   \n",
      "3             The Originals: Season 1_hook_primary_16x9   \n",
      "4     Trailer: The Sons of Sam: A Descent into Darkness   \n",
      "...                                                 ...   \n",
      "2203           The SpongeBob Movie: Sponge Out of Water   \n",
      "2204  Minecraft: Story Mode: Season 1: Order Up! (Ep...   \n",
      "2205  Minecraft: Story Mode: Season 1: The Order of ...   \n",
      "2206  Minecraft: Story Mode: Season 1: Order Up! (Ep...   \n",
      "2207  Minecraft: Story Mode: Season 1: The Order of ...   \n",
      "\n",
      "     Supplemental Video Type                              Device Type  \\\n",
      "0                        NaN                     Microsoft Xbox One S   \n",
      "1                        NaN                     Microsoft Xbox One S   \n",
      "2                        NaN                     Microsoft Xbox One S   \n",
      "3                       HOOK                     Microsoft Xbox One S   \n",
      "4                    TRAILER                     Microsoft Xbox One S   \n",
      "...                      ...                                      ...   \n",
      "2203                     NaN  LG 2018 Mstar LM18A STD UHD TV Smart TV   \n",
      "2204                     NaN  LG 2018 Mstar LM18A STD UHD TV Smart TV   \n",
      "2205                     NaN  LG 2018 Mstar LM18A STD UHD TV Smart TV   \n",
      "2206                     NaN  LG 2018 Mstar LM18A STD UHD TV Smart TV   \n",
      "2207                     NaN  LG 2018 Mstar LM18A STD UHD TV Smart TV   \n",
      "\n",
      "      Bookmark  Latest Bookmark       Country  \n",
      "0     00:35:17         00:35:17  IE (Ireland)  \n",
      "1     00:39:43         00:39:43  IE (Ireland)  \n",
      "2     00:41:24         00:41:24  IE (Ireland)  \n",
      "3     00:00:31         00:00:31  IE (Ireland)  \n",
      "4     00:00:08         00:00:08  IE (Ireland)  \n",
      "...        ...              ...           ...  \n",
      "2203  01:24:36         01:24:36    CL (Chile)  \n",
      "2204  00:04:42         00:04:42    CL (Chile)  \n",
      "2205  04:16:46         04:16:46    CL (Chile)  \n",
      "2206  00:01:12  Not latest view    CL (Chile)  \n",
      "2207  00:00:26  Not latest view    CL (Chile)  \n",
      "\n",
      "[2208 rows x 10 columns]\n"
     ]
    }
   ],
   "source": [
    "print(df)"
   ]
  },
  {
   "cell_type": "code",
   "execution_count": 1,
   "metadata": {},
   "outputs": [
    {
     "name": "stdout",
     "output_type": "stream",
     "text": [
      "test\n"
     ]
    }
   ],
   "source": [
    "print('test')"
   ]
  },
  {
   "cell_type": "code",
   "execution_count": 2,
   "metadata": {},
   "outputs": [
    {
     "data": {
      "text/plain": [
       "'hello'"
      ]
     },
     "execution_count": 2,
     "metadata": {},
     "output_type": "execute_result"
    }
   ],
   "source": [
    "\"hello\""
   ]
  },
  {
   "cell_type": "code",
   "execution_count": null,
   "metadata": {},
   "outputs": [],
   "source": []
  }
 ],
 "metadata": {
  "kernelspec": {
   "display_name": "Python 3",
   "language": "python",
   "name": "python3"
  },
  "language_info": {
   "codemirror_mode": {
    "name": "ipython",
    "version": 3
   },
   "file_extension": ".py",
   "mimetype": "text/x-python",
   "name": "python",
   "nbconvert_exporter": "python",
   "pygments_lexer": "ipython3",
   "version": "3.8.5"
  }
 },
 "nbformat": 4,
 "nbformat_minor": 4
}
